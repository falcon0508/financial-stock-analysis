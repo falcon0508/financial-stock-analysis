{
 "cells": [
  {
   "cell_type": "code",
   "execution_count": null,
   "id": "a14983e8-5067-4244-a411-1131ab3a1290",
   "metadata": {},
   "outputs": [],
   "source": [
    "import yfinance as yf\n",
    "import numpy as np\n",
    "import os\n",
    "import joblib\n",
    "from sklearn.preprocessing import MinMaxScaler, LabelEncoder\n",
    "import tensorflow as tf\n",
    "from keras.models import Model\n",
    "from keras.layers import Input, LSTM, Dense, Dropout, Embedding, Flatten, Concatenate\n",
    "from keras.mixed_precision import experimental as mixed_precision"
   ]
  },
  {
   "cell_type": "code",
   "execution_count": null,
   "id": "94bbf14c-9f2c-4395-a270-75c807f0893b",
   "metadata": {},
   "outputs": [],
   "source": [
    "gpus = tf.config.list_physical_devices('GPU')\n",
    "if gpus:\n",
    "    try:\n",
    "        tf.config.experimental.set_memory_growth(gpus[0], True)\n",
    "        print(\"GPU enabled:\", gpus[0])\n",
    "    except RuntimeError as e:\n",
    "        print(e)\n",
    "\n",
    "# Enable mixed precision for speed on NVIDIA GPUs\n",
    "policy = mixed_precision.Policy('mixed_float16')\n",
    "mixed_precision.set_policy(policy)"
   ]
  },
  {
   "cell_type": "code",
   "execution_count": null,
   "id": "306576e7-52c3-4baf-8a12-93651fb0c3e9",
   "metadata": {},
   "outputs": [],
   "source": [
    "tickers = [\n",
    "    \"AAPL\", \"MSFT\", \"GOOGL\", \"AMZN\", \"TSLA\",\n",
    "    \"META\", \"NVDA\", \"JPM\", \"V\", \"JNJ\",\n",
    "    \"PG\", \"MA\", \"UNH\", \"HD\", \"PYPL\",\n",
    "    \"DIS\", \"VZ\", \"INTC\", \"CSCO\", \"IBM\",\n",
    "    \"KO\", \"PEP\", \"MRK\", \"PFE\", \"ABT\",\n",
    "    \"T\", \"XOM\", \"CVX\", \"BA\", \"GE\",\n",
    "    \"WMT\", \"MCD\", \"NKE\", \"ADBE\", \"NFLX\",\n",
    "    \"ORCL\", \"CRM\", \"AMD\", \"QCOM\", \"TXN\",\n",
    "    \"TMO\", \"MDT\", \"BMY\", \"GILD\", \"AMGN\",\n",
    "    \"LLY\", \"MRNA\", \"REGN\", \"VRTX\", \"UPS\"\n",
    "]\n",
    "\n",
    "sequence_length = 60\n",
    "scaler_folder = \"scalers\"\n",
    "os.makedirs(scaler_folder, exist_ok=True)\n",
    "\n",
    "all_X_seq, all_X_ticker, all_y = [], [], []"
   ]
  },
  {
   "cell_type": "code",
   "execution_count": null,
   "id": "bb41a93b-8d00-416a-a007-3054f8e23a93",
   "metadata": {},
   "outputs": [],
   "source": [
    "ticker_encoder = LabelEncoder()\n",
    "ticker_encoder.fit(tickers)\n",
    "num_tickers = len(ticker_encoder.classes_)\n",
    "joblib.dump(ticker_encoder, \"ticker_encoder.pkl\")"
   ]
  },
  {
   "cell_type": "code",
   "execution_count": null,
   "id": "a7c2b211-e70e-41b6-b427-14d125c683f8",
   "metadata": {},
   "outputs": [],
   "source": [
    "# Load and process each stock's data\n",
    "for ticker in tickers:\n",
    "    print(f\"Processing {ticker}...\")\n",
    "    data = yf.download(ticker, start=\"2018-01-01\", end=\"2025-01-01\")\n",
    "    close_prices = data[\"Close\"].values.reshape(-1,1)\n",
    "\n",
    "    if len(close_prices) < sequence_length:\n",
    "        print(f\"Not enough data for {ticker}, skipping...\")\n",
    "        continue\n",
    "\n",
    "    # Scale prices per stock\n",
    "    scaler = MinMaxScaler()\n",
    "    scaled_data = scaler.fit_transform(close_prices)\n",
    "    joblib.dump(scaler, os.path.join(scaler_folder, f\"scaler_{ticker}.pkl\"))\n",
    "\n",
    "    # Create sequences\n",
    "    for i in range(sequence_length, len(scaled_data)):\n",
    "        seq = scaled_data[i-sequence_length:i, 0]\n",
    "        all_X_seq.append(seq)\n",
    "        all_X_ticker.append(ticker_encoder.transform([ticker])[0])\n",
    "        all_y.append(scaled_data[i,0])"
   ]
  },
  {
   "cell_type": "code",
   "execution_count": null,
   "id": "acdcb299-0910-48c3-8920-3e531019b0bb",
   "metadata": {},
   "outputs": [],
   "source": [
    "# Convert to numpy\n",
    "X_seq = np.array(all_X_seq, dtype=np.float32)\n",
    "X_seq = np.reshape(X_seq, (X_seq.shape[0], X_seq.shape[1], 1))\n",
    "X_ticker = np.array(all_X_ticker)\n",
    "y = np.array(all_y, dtype=np.float32)\n",
    "print(\"Sequences shape:\", X_seq.shape, \"Tickers shape:\", X_ticker.shape, \"y shape:\", y.shape)"
   ]
  },
  {
   "cell_type": "code",
   "execution_count": null,
   "id": "e0aba823-6a2c-4d66-b7d1-48bfcc18c65d",
   "metadata": {},
   "outputs": [],
   "source": [
    "# Build model\n",
    "seq_input = Input(shape=(sequence_length, 1))\n",
    "lstm_out = LSTM(50, return_sequences=True)(seq_input)\n",
    "lstm_out = Dropout(0.2)(lstm_out)\n",
    "lstm_out = LSTM(50, return_sequences=False)(lstm_out)\n",
    "lstm_out = Dropout(0.2)(lstm_out)\n",
    "\n",
    "ticker_input = Input(shape=(1,))\n",
    "embed = Embedding(input_dim=num_tickers, output_dim=5)(ticker_input)\n",
    "embed = Flatten()(embed)\n",
    "\n",
    "combined = Concatenate()([lstm_out, embed])\n",
    "dense = Dense(25, activation=\"relu\")(combined)\n",
    "output = Dense(1, dtype='float32')(dense)  # ensure float32 output for mixed precision\n",
    "\n",
    "model = Model(inputs=[seq_input, ticker_input], outputs=output)\n",
    "model.compile(optimizer=\"adam\", loss=\"mean_squared_error\")"
   ]
  },
  {
   "cell_type": "code",
   "execution_count": null,
   "id": "d2ab6e28-036c-4bd1-96b1-aa8ddc6b6faf",
   "metadata": {},
   "outputs": [],
   "source": [
    "model.fit(\n",
    "    [X_seq, X_ticker],\n",
    "    y,\n",
    "    batch_size=128,  # larger batch size for GPU\n",
    "    epochs=10,\n",
    "    shuffle=True\n",
    ")"
   ]
  },
  {
   "cell_type": "code",
   "execution_count": null,
   "id": "25ee2c13-f71e-4cf6-97d5-fc5a9812b2c4",
   "metadata": {},
   "outputs": [],
   "source": [
    "#Save model\n",
    "model.save(\"multi_stock_model_gpu.h5\")\n",
    "print(\"Model saved as multi_stock_model_gpu.h5\")\n",
    "print(f\"Scalers saved in folder: {scaler_folder}\")"
   ]
  }
 ],
 "metadata": {
  "kernelspec": {
   "display_name": "Python 3 (ipykernel)",
   "language": "python",
   "name": "python3"
  },
  "language_info": {
   "codemirror_mode": {
    "name": "ipython",
    "version": 3
   },
   "file_extension": ".py",
   "mimetype": "text/x-python",
   "name": "python",
   "nbconvert_exporter": "python",
   "pygments_lexer": "ipython3",
   "version": "3.13.5"
  }
 },
 "nbformat": 4,
 "nbformat_minor": 5
}
